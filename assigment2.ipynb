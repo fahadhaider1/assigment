{
 "cells": [
  {
   "cell_type": "code",
   "execution_count": 3,
   "id": "ad77a8e6-c892-4637-9d64-ac1b8ed6101a",
   "metadata": {},
   "outputs": [
    {
     "name": "stdin",
     "output_type": "stream",
     "text": [
      "Enter your marks 91\n"
     ]
    },
    {
     "name": "stdout",
     "output_type": "stream",
     "text": [
      "you will be a part of A batch\n"
     ]
    }
   ],
   "source": [
    "# Ques. 1\n",
    "# Ans\n",
    "marks=int(input(\"Enter your marks\"))\n",
    "if marks>90:\n",
    "    print(\"you will be a part of A batch\")\n",
    "elif marks>80 and marks<=90:\n",
    "    print(\"you will be a part of B batch\")\n",
    "elif marks<=60 and marks<=80:\n",
    "    print(\"you eill be a part of C batch\")\n",
    "else : \n",
    "    print(\"you will be a part of D batch\")"
   ]
  },
  {
   "cell_type": "code",
   "execution_count": 12,
   "id": "6368df5e-2ead-473d-ae18-bc5f39e1c0b8",
   "metadata": {},
   "outputs": [
    {
     "name": "stdin",
     "output_type": "stream",
     "text": [
      "Enter your cost 69000\n"
     ]
    },
    {
     "name": "stdout",
     "output_type": "stream",
     "text": [
      "you will charge 10% tax\n"
     ]
    }
   ],
   "source": [
    "#Ques.2\n",
    "#Ans\n",
    "cost=int(input(\"Enter your cost\"))\n",
    "if cost>100000:\n",
    "    print(\"you will charge 15% tax\")\n",
    "elif cost >50000 and cost <=100000:\n",
    "    print(\"you will charge 10% tax\")\n",
    "else : \n",
    "    print(\"you will charge 5% tax\")"
   ]
  },
  {
   "cell_type": "code",
   "execution_count": 11,
   "id": "a1e6a630-98dd-4e57-ab7f-df3f4286ac92",
   "metadata": {},
   "outputs": [
    {
     "name": "stdin",
     "output_type": "stream",
     "text": [
      "Enter city name agra\n"
     ]
    },
    {
     "name": "stdout",
     "output_type": "stream",
     "text": [
      "monuments is taj mahal\n"
     ]
    }
   ],
   "source": [
    "#Ques.3\n",
    "#Anas\n",
    "city=str(input(\"Enter city name\"))\n",
    "if city == 'delhi':\n",
    "    print(\"monuments is red fort\")\n",
    "elif city == 'agra' : \n",
    "    print(\"monuments is taj mahal\")\n",
    "elif city == 'jaipur' : \n",
    "    print(\"monuments is jal mahal\")\n",
    "else : \n",
    "    pass"
   ]
  },
  {
   "cell_type": "code",
   "execution_count": 35,
   "id": "cab6b8e4-3390-4a83-a032-fa3cd1b3f526",
   "metadata": {},
   "outputs": [
    {
     "name": "stdin",
     "output_type": "stream",
     "text": [
      "enter number= 13\n"
     ]
    },
    {
     "name": "stdout",
     "output_type": "stream",
     "text": [
      "number of times= 1\n"
     ]
    }
   ],
   "source": [
    "#Ques.4\n",
    "#Ans\n",
    "num=int(input(\"enter number=\"))\n",
    "count=0\n",
    "while num>10:\n",
    "        num=num/3;\n",
    "        count+=1\n",
    "print('number of times=',count)"
   ]
  },
  {
   "cell_type": "code",
   "execution_count": 36,
   "id": "233c0ce9-258e-41e2-a12d-3b92ee852e43",
   "metadata": {},
   "outputs": [
    {
     "name": "stdout",
     "output_type": "stream",
     "text": [
      "1\n",
      "2\n",
      "3\n",
      "4\n",
      "5\n"
     ]
    }
   ],
   "source": [
    "#Ques.5\n",
    "#Ans \n",
    "i = 1\n",
    "n = 5\n",
    "\n",
    "# while loop from i = 1 to 5\n",
    "while i <= n:\n",
    "    print(i)\n",
    "    i = i + 1\n"
   ]
  },
  {
   "cell_type": "code",
   "execution_count": 37,
   "id": "4ff3c7f8-c960-4f26-860c-0ed1e07a91e3",
   "metadata": {},
   "outputs": [
    {
     "name": "stdout",
     "output_type": "stream",
     "text": [
      "12345678910 \n",
      "123456789 \n",
      "12345678 \n",
      "1234567 \n",
      "123456 \n",
      "12345 \n",
      "1234 \n",
      "123 \n",
      "12 \n",
      "1 \n"
     ]
    }
   ],
   "source": [
    "#Ques.6\n",
    "#pattern_1\n",
    "e=10\n",
    "while e>=1:\n",
    "    f=1\n",
    "    while f<=e:\n",
    "        print(f,end='')\n",
    "        f=f+1\n",
    "    print(\" \")\n",
    "    e=e-1"
   ]
  },
  {
   "cell_type": "code",
   "execution_count": 38,
   "id": "03f29317-044e-46a3-a8bb-34c9da93ea3f",
   "metadata": {},
   "outputs": [
    {
     "name": "stdout",
     "output_type": "stream",
     "text": [
      "1 \n",
      "12 \n",
      "123 \n",
      "1234 \n",
      "12345 \n"
     ]
    }
   ],
   "source": [
    "#Pattern_2\n",
    "i=1\n",
    "while i<=5:\n",
    "    l=1\n",
    "    while (l<=i):\n",
    "        print(l,end='')\n",
    "        l=l+1\n",
    "    print(\" \")\n",
    "    i=i+1"
   ]
  },
  {
   "cell_type": "code",
   "execution_count": 40,
   "id": "fb295f73-1330-42fe-a11b-332f9782bd61",
   "metadata": {},
   "outputs": [
    {
     "name": "stdout",
     "output_type": "stream",
     "text": [
      "*1,2*1,2*1,2*1,2*1,2*1,2*1,2*1,2*1,2\n",
      "*1,2*1,2*1,2*1,2*1,2*1,2*1,2*1,2*1,2\n",
      "*1,2*1,2*1,2*1,2*1,2*1,2*1,2*1,2*1,2\n",
      "*1,2*1,2*1,2*1,2*1,2*1,2*1,2*1,2*1,2\n",
      "*1,2*1,2*1,2*1,2*1,2*1,2*1,2*1,2*1,2\n",
      "*1,2*1,2*1,2*1,2*1,2*1,2*1,2*1,2*1,2\n",
      "*1,2*1,2*1,2*1,2*1,2*1,2*1,2*1,2*1,2\n",
      "*1,2*1,2*1,2*1,2*1,2*1,2*1,2*1,2*1,2\n",
      "*1,2*1,2*1,2*1,2*1,2*1,2*1,2*1,2*1,2\n"
     ]
    }
   ],
   "source": [
    "#initilize variable\n",
    "i=1\n",
    "j=1\n",
    "#while loop\n",
    "while i<10:\n",
    "    #nested while\n",
    "    while j<10:\n",
    "        #printed star with 1,2 it\n",
    "        print(\"*\",end=\"1,2\")\n",
    "        #increment j by 1\n",
    "        j+=1\n",
    "    #print new line\n",
    "    print()\n",
    "    #reset value of j\n",
    "    j=1\n",
    "    #increment value of i by 1\n",
    "    i+=1"
   ]
  },
  {
   "cell_type": "code",
   "execution_count": 44,
   "id": "d4e93b75-5753-480f-b42b-ba0069cd87cf",
   "metadata": {},
   "outputs": [
    {
     "name": "stdout",
     "output_type": "stream",
     "text": [
      "10\n",
      "9\n",
      "8\n",
      "7\n",
      "6\n",
      "5\n",
      "4\n",
      "3\n",
      "2\n",
      "1\n",
      "0\n"
     ]
    }
   ],
   "source": [
    "#Ques.7\n",
    "#Ans\n",
    "num_1=10\n",
    "num_2=0\n",
    "while num_1>=num_2:\n",
    "    print(num_1)\n",
    "    num_1-=1"
   ]
  },
  {
   "cell_type": "code",
   "execution_count": null,
   "id": "80722046-8d2c-465f-9980-f933cc751d2a",
   "metadata": {},
   "outputs": [],
   "source": [
    "#Ques.8\n",
    "#Ans\n",
    "TEN=1\n",
    "ONE=10\n",
    "while ONE>=TEN :\n",
    "    print(ONE)\n",
    "    ONE-=1"
   ]
  },
  {
   "cell_type": "code",
   "execution_count": null,
   "id": "4570857f-b36e-463c-acfa-7fe6516fda7f",
   "metadata": {},
   "outputs": [],
   "source": []
  }
 ],
 "metadata": {
  "kernelspec": {
   "display_name": "Python 3 (ipykernel)",
   "language": "python",
   "name": "python3"
  },
  "language_info": {
   "codemirror_mode": {
    "name": "ipython",
    "version": 3
   },
   "file_extension": ".py",
   "mimetype": "text/x-python",
   "name": "python",
   "nbconvert_exporter": "python",
   "pygments_lexer": "ipython3",
   "version": "3.10.8"
  }
 },
 "nbformat": 4,
 "nbformat_minor": 5
}
